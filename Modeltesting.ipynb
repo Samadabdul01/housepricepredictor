{
 "cells": [
  {
   "cell_type": "code",
   "execution_count": 6,
   "metadata": {},
   "outputs": [
    {
     "data": {
      "text/plain": [
       "array([5007900.])"
      ]
     },
     "execution_count": 6,
     "metadata": {},
     "output_type": "execute_result"
    }
   ],
   "source": [
    "# features =  (number of bedrooms, number of bathrooms, living area, lot area, number of floors, grade of the house, \n",
    "#              Area of the house(excluding basement), Area of the basement, Built Year, Renovation Year, living_area_renov, lot_area_renov, \n",
    "#              Number of schools nearby, Distance from the airport)\n",
    "from joblib import dump, load\n",
    "import numpy as np\n",
    "model = load('housepricepredictor.joblib') \n",
    "# features = np.array([[2,2,2750,4500,1.5,9,1900,830,1930,0,2050,2450,2,60]])  array([4104400.])\n",
    "features = np.array([[3,2.00, 2710, 4500, 1.5, 8, 1880, 830, 1929, 2060, 4500, 1, 51]])\n",
    "model.predict(features)"
   ]
  },
  {
   "cell_type": "code",
   "execution_count": null,
   "metadata": {},
   "outputs": [],
   "source": []
  }
 ],
 "metadata": {
  "kernelspec": {
   "display_name": "Python 3",
   "language": "python",
   "name": "python3"
  },
  "language_info": {
   "codemirror_mode": {
    "name": "ipython",
    "version": 3
   },
   "file_extension": ".py",
   "mimetype": "text/x-python",
   "name": "python",
   "nbconvert_exporter": "python",
   "pygments_lexer": "ipython3",
   "version": "3.12.6"
  }
 },
 "nbformat": 4,
 "nbformat_minor": 2
}
